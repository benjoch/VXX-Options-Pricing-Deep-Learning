{
 "cells": [
  {
   "cell_type": "markdown",
   "metadata": {},
   "source": [
    "# Security Feature Engineering\n",
    "\n",
    "Goal: Reduce the securities data to only features that will be used in our model. Tansform date column in the securities data to a common format that will be used in each data frame. Will need the same date format to properly join the data frames.\n",
    "\n",
    "Create a derived implied volatility feature for each date. Standard deviation of the last 20 days of stock close prices. Will be used as an additional input to the model."
   ]
  },
  {
   "cell_type": "code",
   "execution_count": 1,
   "metadata": {},
   "outputs": [],
   "source": [
    "import pandas as pd\n",
    "import numpy as np"
   ]
  },
  {
   "cell_type": "code",
   "execution_count": 2,
   "metadata": {},
   "outputs": [
    {
     "name": "stdout",
     "output_type": "stream",
     "text": [
      "/Users/benjochem/Desktop/Junior/Research\n"
     ]
    }
   ],
   "source": [
    "%cd '/Users/benjochem/Desktop/Junior/Research'"
   ]
  },
  {
   "cell_type": "code",
   "execution_count": 3,
   "metadata": {},
   "outputs": [
    {
     "data": {
      "text/html": [
       "<div>\n",
       "<style scoped>\n",
       "    .dataframe tbody tr th:only-of-type {\n",
       "        vertical-align: middle;\n",
       "    }\n",
       "\n",
       "    .dataframe tbody tr th {\n",
       "        vertical-align: top;\n",
       "    }\n",
       "\n",
       "    .dataframe thead th {\n",
       "        text-align: right;\n",
       "    }\n",
       "</style>\n",
       "<table border=\"1\" class=\"dataframe\">\n",
       "  <thead>\n",
       "    <tr style=\"text-align: right;\">\n",
       "      <th></th>\n",
       "      <th>date</th>\n",
       "      <th>close</th>\n",
       "      <th>volume</th>\n",
       "      <th>return</th>\n",
       "    </tr>\n",
       "  </thead>\n",
       "  <tbody>\n",
       "    <tr>\n",
       "      <td>0</td>\n",
       "      <td>1/30/2009</td>\n",
       "      <td>104.58</td>\n",
       "      <td>215700</td>\n",
       "      <td>NaN</td>\n",
       "    </tr>\n",
       "    <tr>\n",
       "      <td>1</td>\n",
       "      <td>2/2/2009</td>\n",
       "      <td>104.25</td>\n",
       "      <td>308571</td>\n",
       "      <td>-0.003155</td>\n",
       "    </tr>\n",
       "    <tr>\n",
       "      <td>2</td>\n",
       "      <td>2/3/2009</td>\n",
       "      <td>99.37</td>\n",
       "      <td>177709</td>\n",
       "      <td>-0.046811</td>\n",
       "    </tr>\n",
       "    <tr>\n",
       "      <td>3</td>\n",
       "      <td>2/4/2009</td>\n",
       "      <td>99.74</td>\n",
       "      <td>156854</td>\n",
       "      <td>0.003723</td>\n",
       "    </tr>\n",
       "    <tr>\n",
       "      <td>4</td>\n",
       "      <td>2/5/2009</td>\n",
       "      <td>99.13</td>\n",
       "      <td>243819</td>\n",
       "      <td>-0.006116</td>\n",
       "    </tr>\n",
       "  </tbody>\n",
       "</table>\n",
       "</div>"
      ],
      "text/plain": [
       "        date   close  volume    return\n",
       "0  1/30/2009  104.58  215700       NaN\n",
       "1   2/2/2009  104.25  308571 -0.003155\n",
       "2   2/3/2009   99.37  177709 -0.046811\n",
       "3   2/4/2009   99.74  156854  0.003723\n",
       "4   2/5/2009   99.13  243819 -0.006116"
      ]
     },
     "execution_count": 3,
     "metadata": {},
     "output_type": "execute_result"
    }
   ],
   "source": [
    "securities = pd.read_csv('Project/data/raw/vxx_security_prices.csv')\n",
    "securities = securities [['date','close','volume','return']]\n",
    "securities.head()"
   ]
  },
  {
   "cell_type": "code",
   "execution_count": 4,
   "metadata": {},
   "outputs": [],
   "source": [
    "#function to match data structure of the securities dates to treasury data / options data dates (yyyymmdd)\n",
    "def date_to_numeric(date = []):\n",
    "    converted = []\n",
    "    for d in date:\n",
    "        d = d.strip().split('/')\n",
    "        day,month,year = d[0], d[1], d[2]\n",
    "    \n",
    "        # leading zeros on days/months\n",
    "        if len(day) == 1: \n",
    "            day = '0' + day\n",
    "        if len(month) == 1:\n",
    "            month = '0' + month\n",
    "\n",
    "        string = year + day + month\n",
    "        converted.append(string)\n",
    "    \n",
    "    return converted"
   ]
  },
  {
   "cell_type": "code",
   "execution_count": 5,
   "metadata": {},
   "outputs": [
    {
     "data": {
      "text/html": [
       "<div>\n",
       "<style scoped>\n",
       "    .dataframe tbody tr th:only-of-type {\n",
       "        vertical-align: middle;\n",
       "    }\n",
       "\n",
       "    .dataframe tbody tr th {\n",
       "        vertical-align: top;\n",
       "    }\n",
       "\n",
       "    .dataframe thead th {\n",
       "        text-align: right;\n",
       "    }\n",
       "</style>\n",
       "<table border=\"1\" class=\"dataframe\">\n",
       "  <thead>\n",
       "    <tr style=\"text-align: right;\">\n",
       "      <th></th>\n",
       "      <th>date</th>\n",
       "      <th>close</th>\n",
       "      <th>volume</th>\n",
       "      <th>return</th>\n",
       "      <th>Date</th>\n",
       "    </tr>\n",
       "  </thead>\n",
       "  <tbody>\n",
       "    <tr>\n",
       "      <td>0</td>\n",
       "      <td>1/30/2009</td>\n",
       "      <td>104.58</td>\n",
       "      <td>215700</td>\n",
       "      <td>NaN</td>\n",
       "      <td>20090130</td>\n",
       "    </tr>\n",
       "    <tr>\n",
       "      <td>1</td>\n",
       "      <td>2/2/2009</td>\n",
       "      <td>104.25</td>\n",
       "      <td>308571</td>\n",
       "      <td>-0.003155</td>\n",
       "      <td>20090202</td>\n",
       "    </tr>\n",
       "    <tr>\n",
       "      <td>2</td>\n",
       "      <td>2/3/2009</td>\n",
       "      <td>99.37</td>\n",
       "      <td>177709</td>\n",
       "      <td>-0.046811</td>\n",
       "      <td>20090203</td>\n",
       "    </tr>\n",
       "    <tr>\n",
       "      <td>3</td>\n",
       "      <td>2/4/2009</td>\n",
       "      <td>99.74</td>\n",
       "      <td>156854</td>\n",
       "      <td>0.003723</td>\n",
       "      <td>20090204</td>\n",
       "    </tr>\n",
       "    <tr>\n",
       "      <td>4</td>\n",
       "      <td>2/5/2009</td>\n",
       "      <td>99.13</td>\n",
       "      <td>243819</td>\n",
       "      <td>-0.006116</td>\n",
       "      <td>20090205</td>\n",
       "    </tr>\n",
       "  </tbody>\n",
       "</table>\n",
       "</div>"
      ],
      "text/plain": [
       "        date   close  volume    return      Date\n",
       "0  1/30/2009  104.58  215700       NaN  20090130\n",
       "1   2/2/2009  104.25  308571 -0.003155  20090202\n",
       "2   2/3/2009   99.37  177709 -0.046811  20090203\n",
       "3   2/4/2009   99.74  156854  0.003723  20090204\n",
       "4   2/5/2009   99.13  243819 -0.006116  20090205"
      ]
     },
     "execution_count": 5,
     "metadata": {},
     "output_type": "execute_result"
    }
   ],
   "source": [
    "securities['Date'] = date_to_numeric(securities.date)\n",
    "securities.head()"
   ]
  },
  {
   "cell_type": "code",
   "execution_count": 6,
   "metadata": {},
   "outputs": [
    {
     "data": {
      "text/html": [
       "<div>\n",
       "<style scoped>\n",
       "    .dataframe tbody tr th:only-of-type {\n",
       "        vertical-align: middle;\n",
       "    }\n",
       "\n",
       "    .dataframe tbody tr th {\n",
       "        vertical-align: top;\n",
       "    }\n",
       "\n",
       "    .dataframe thead th {\n",
       "        text-align: right;\n",
       "    }\n",
       "</style>\n",
       "<table border=\"1\" class=\"dataframe\">\n",
       "  <thead>\n",
       "    <tr style=\"text-align: right;\">\n",
       "      <th></th>\n",
       "      <th>close</th>\n",
       "      <th>volume</th>\n",
       "      <th>return</th>\n",
       "      <th>Date</th>\n",
       "    </tr>\n",
       "  </thead>\n",
       "  <tbody>\n",
       "    <tr>\n",
       "      <td>0</td>\n",
       "      <td>104.58</td>\n",
       "      <td>215700</td>\n",
       "      <td>NaN</td>\n",
       "      <td>20090130</td>\n",
       "    </tr>\n",
       "    <tr>\n",
       "      <td>1</td>\n",
       "      <td>104.25</td>\n",
       "      <td>308571</td>\n",
       "      <td>-0.003155</td>\n",
       "      <td>20090202</td>\n",
       "    </tr>\n",
       "    <tr>\n",
       "      <td>2</td>\n",
       "      <td>99.37</td>\n",
       "      <td>177709</td>\n",
       "      <td>-0.046811</td>\n",
       "      <td>20090203</td>\n",
       "    </tr>\n",
       "    <tr>\n",
       "      <td>3</td>\n",
       "      <td>99.74</td>\n",
       "      <td>156854</td>\n",
       "      <td>0.003723</td>\n",
       "      <td>20090204</td>\n",
       "    </tr>\n",
       "    <tr>\n",
       "      <td>4</td>\n",
       "      <td>99.13</td>\n",
       "      <td>243819</td>\n",
       "      <td>-0.006116</td>\n",
       "      <td>20090205</td>\n",
       "    </tr>\n",
       "  </tbody>\n",
       "</table>\n",
       "</div>"
      ],
      "text/plain": [
       "    close  volume    return      Date\n",
       "0  104.58  215700       NaN  20090130\n",
       "1  104.25  308571 -0.003155  20090202\n",
       "2   99.37  177709 -0.046811  20090203\n",
       "3   99.74  156854  0.003723  20090204\n",
       "4   99.13  243819 -0.006116  20090205"
      ]
     },
     "execution_count": 6,
     "metadata": {},
     "output_type": "execute_result"
    }
   ],
   "source": [
    "securities.drop(labels = 'date', axis = 1, inplace = True)\n",
    "securities.head()"
   ]
  },
  {
   "cell_type": "code",
   "execution_count": 7,
   "metadata": {},
   "outputs": [
    {
     "data": {
      "text/html": [
       "<div>\n",
       "<style scoped>\n",
       "    .dataframe tbody tr th:only-of-type {\n",
       "        vertical-align: middle;\n",
       "    }\n",
       "\n",
       "    .dataframe tbody tr th {\n",
       "        vertical-align: top;\n",
       "    }\n",
       "\n",
       "    .dataframe thead th {\n",
       "        text-align: right;\n",
       "    }\n",
       "</style>\n",
       "<table border=\"1\" class=\"dataframe\">\n",
       "  <thead>\n",
       "    <tr style=\"text-align: right;\">\n",
       "      <th></th>\n",
       "      <th>close</th>\n",
       "      <th>volume</th>\n",
       "      <th>return</th>\n",
       "      <th>Date</th>\n",
       "    </tr>\n",
       "  </thead>\n",
       "  <tbody>\n",
       "    <tr>\n",
       "      <td>0</td>\n",
       "      <td>104.58</td>\n",
       "      <td>215700</td>\n",
       "      <td>NaN</td>\n",
       "      <td>20090130</td>\n",
       "    </tr>\n",
       "    <tr>\n",
       "      <td>1</td>\n",
       "      <td>104.25</td>\n",
       "      <td>308571</td>\n",
       "      <td>-0.003155</td>\n",
       "      <td>20090202</td>\n",
       "    </tr>\n",
       "    <tr>\n",
       "      <td>2</td>\n",
       "      <td>99.37</td>\n",
       "      <td>177709</td>\n",
       "      <td>-0.046811</td>\n",
       "      <td>20090203</td>\n",
       "    </tr>\n",
       "    <tr>\n",
       "      <td>3</td>\n",
       "      <td>99.74</td>\n",
       "      <td>156854</td>\n",
       "      <td>0.003723</td>\n",
       "      <td>20090204</td>\n",
       "    </tr>\n",
       "    <tr>\n",
       "      <td>4</td>\n",
       "      <td>99.13</td>\n",
       "      <td>243819</td>\n",
       "      <td>-0.006116</td>\n",
       "      <td>20090205</td>\n",
       "    </tr>\n",
       "    <tr>\n",
       "      <td>...</td>\n",
       "      <td>...</td>\n",
       "      <td>...</td>\n",
       "      <td>...</td>\n",
       "      <td>...</td>\n",
       "    </tr>\n",
       "    <tr>\n",
       "      <td>2994</td>\n",
       "      <td>14.94</td>\n",
       "      <td>10315489</td>\n",
       "      <td>-0.009940</td>\n",
       "      <td>20191224</td>\n",
       "    </tr>\n",
       "    <tr>\n",
       "      <td>2995</td>\n",
       "      <td>14.92</td>\n",
       "      <td>13591197</td>\n",
       "      <td>-0.001339</td>\n",
       "      <td>20191226</td>\n",
       "    </tr>\n",
       "    <tr>\n",
       "      <td>2996</td>\n",
       "      <td>15.23</td>\n",
       "      <td>26440757</td>\n",
       "      <td>0.020777</td>\n",
       "      <td>20191227</td>\n",
       "    </tr>\n",
       "    <tr>\n",
       "      <td>2997</td>\n",
       "      <td>15.76</td>\n",
       "      <td>34261087</td>\n",
       "      <td>0.034800</td>\n",
       "      <td>20191230</td>\n",
       "    </tr>\n",
       "    <tr>\n",
       "      <td>2998</td>\n",
       "      <td>15.12</td>\n",
       "      <td>33167470</td>\n",
       "      <td>-0.040609</td>\n",
       "      <td>20191231</td>\n",
       "    </tr>\n",
       "  </tbody>\n",
       "</table>\n",
       "<p>2999 rows × 4 columns</p>\n",
       "</div>"
      ],
      "text/plain": [
       "       close    volume    return      Date\n",
       "0     104.58    215700       NaN  20090130\n",
       "1     104.25    308571 -0.003155  20090202\n",
       "2      99.37    177709 -0.046811  20090203\n",
       "3      99.74    156854  0.003723  20090204\n",
       "4      99.13    243819 -0.006116  20090205\n",
       "...      ...       ...       ...       ...\n",
       "2994   14.94  10315489 -0.009940  20191224\n",
       "2995   14.92  13591197 -0.001339  20191226\n",
       "2996   15.23  26440757  0.020777  20191227\n",
       "2997   15.76  34261087  0.034800  20191230\n",
       "2998   15.12  33167470 -0.040609  20191231\n",
       "\n",
       "[2999 rows x 4 columns]"
      ]
     },
     "execution_count": 7,
     "metadata": {},
     "output_type": "execute_result"
    }
   ],
   "source": [
    "securities"
   ]
  },
  {
   "cell_type": "code",
   "execution_count": 8,
   "metadata": {},
   "outputs": [
    {
     "name": "stderr",
     "output_type": "stream",
     "text": [
      "/opt/anaconda3/lib/python3.7/site-packages/ipykernel_launcher.py:5: FutureWarning: Currently, 'apply' passes the values as ndarrays to the applied function. In the future, this will change to passing it as Series objects. You need to specify 'raw=True' to keep the current behaviour, and you can pass 'raw=False' to silence this warning\n",
      "  \"\"\"\n"
     ]
    }
   ],
   "source": [
    "# Volatility over life of the option is assumed to be historical volatility of the last 20 trading days\n",
    "# rolling essentially aggregates the last 20 observations and requires some function be applied \n",
    "# lambda function calculates the standard deviation of day to day price changes for the last 20 days\n",
    "\n",
    "securities['vol_20'] = securities.close.rolling(20).apply(lambda x: (np.diff(x) / x[:-1]).std())"
   ]
  },
  {
   "cell_type": "code",
   "execution_count": 9,
   "metadata": {},
   "outputs": [],
   "source": [
    "securities.to_csv('Project/data/interim/securities_w_date.csv', index = False)"
   ]
  },
  {
   "cell_type": "code",
   "execution_count": 8,
   "metadata": {},
   "outputs": [],
   "source": [
    "securities = pd.read_csv('Project/data/interim/securities_w_date.csv')"
   ]
  }
 ],
 "metadata": {
  "kernelspec": {
   "display_name": "Python 3",
   "language": "python",
   "name": "python3"
  },
  "language_info": {
   "codemirror_mode": {
    "name": "ipython",
    "version": 3
   },
   "file_extension": ".py",
   "mimetype": "text/x-python",
   "name": "python",
   "nbconvert_exporter": "python",
   "pygments_lexer": "ipython3",
   "version": "3.7.4"
  }
 },
 "nbformat": 4,
 "nbformat_minor": 4
}
